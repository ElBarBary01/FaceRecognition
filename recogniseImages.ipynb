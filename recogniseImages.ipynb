{
 "cells": [
  {
   "cell_type": "code",
   "execution_count": 12,
   "metadata": {},
   "outputs": [
    {
     "name": "stdout",
     "output_type": "stream",
     "text": [
      "0.2436548223350254\n"
     ]
    }
   ],
   "source": [
    "import cv2\n",
    "import numpy as np\n",
    "from PIL import Image\n",
    "import os\n",
    "recognizer = cv2.face.LBPHFaceRecognizer_create()\n",
    "recognizer.read('trainer/trainer.yml')\n",
    "cascadePath = \"Cascades/haarcascade_frontalface_default.xml\"\n",
    "faceCascade = cv2.CascadeClassifier(cascadePath)\n",
    "path = 'dataset'\n",
    "imagePaths = [os.path.join(path,f) for f in os.listdir(path)]\n",
    "countCorrect = 0\n",
    "countAll = 0\n",
    "for imagePath in imagePaths:\n",
    "        countAll += 1\n",
    "        if(imagePath.__contains__('train')):\n",
    "             continue\n",
    "        PIL_img = Image.open(imagePath).convert('L') # grayscale\n",
    "        img_numpy = np.array(PIL_img,'uint8')\n",
    "        trueLabel = int(os.path.split(imagePath)[-1].split(\".\")[1])\n",
    "    \n",
    "        faces = faceCascade.detectMultiScale( \n",
    "            img_numpy,\n",
    "            scaleFactor = 1.2,\n",
    "            minNeighbors = 5\n",
    "        )\n",
    "\n",
    "        facesCount = len(faces)\n",
    "        correctFacePredictions = 0\n",
    "        wrongFacePredictions = 0\n",
    "        for(x,y,w,h) in faces:\n",
    "            predictedLabel, confidence = recognizer.predict(img_numpy[y:y+h,x:x+w])\n",
    "            if(predictedLabel == trueLabel):\n",
    "                correctFacePredictions += 1\n",
    "            else:\n",
    "                wrongFacePredictions += 1\n",
    "            if (confidence < 75):\n",
    "                confidence = \"  {0}%\".format(round(100 - confidence))\n",
    "            else:\n",
    "                confidence = \"  {0}%\".format(round(100 - confidence))\n",
    "        if(correctFacePredictions >= wrongFacePredictions):\n",
    "            countCorrect += 1\n",
    "        \n",
    "print(str(countCorrect/countAll))"
   ]
  },
  {
   "cell_type": "code",
   "execution_count": 13,
   "metadata": {},
   "outputs": [
    {
     "name": "stdout",
     "output_type": "stream",
     "text": [
      "True Label: 10, Predicted Label: 10, Confidence:   67%\n",
      "True Label: 10, Predicted Label: 10, Confidence:   60%\n",
      "True Label: 10, Predicted Label: 10, Confidence:   59%\n",
      "True Label: 10, Predicted Label: 10, Confidence:   61%\n",
      "True Label: 10, Predicted Label: 10, Confidence:   54%\n",
      "Accuracy: 1.0\n"
     ]
    }
   ],
   "source": [
    "import cv2\n",
    "import numpy as np\n",
    "from PIL import Image\n",
    "import os\n",
    "from sklearn.metrics import accuracy_score\n",
    "\n",
    "recognizer = cv2.face.LBPHFaceRecognizer_create()\n",
    "recognizer.read('trainer/trainer.yml')\n",
    "cascadePath = \"Cascades/haarcascade_frontalface_default.xml\"\n",
    "faceCascade = cv2.CascadeClassifier(cascadePath)\n",
    "path = 'dataset'\n",
    "imagePaths = [os.path.join(path, f) for f in os.listdir(path)]\n",
    "\n",
    "# Split the dataset into training and testing sets\n",
    "train_imagePaths = [img for img in imagePaths if 'train' in img]\n",
    "test_imagePaths = [img for img in imagePaths if 'test' in img]\n",
    "\n",
    "y_true = []\n",
    "y_pred = []\n",
    "\n",
    "for imagePath in test_imagePaths:\n",
    "    PIL_img = Image.open(imagePath).convert('L')  # grayscale\n",
    "    img_numpy = np.array(PIL_img, 'uint8')\n",
    "    trueLabel = int(os.path.split(imagePath)[-1].split(\".\")[1])\n",
    "\n",
    "    faces = faceCascade.detectMultiScale(\n",
    "        img_numpy,\n",
    "        scaleFactor=1.2,\n",
    "        minNeighbors=5\n",
    "    )\n",
    "\n",
    "    for (x, y, w, h) in faces:\n",
    "        predictedLabel, confidence = recognizer.predict(img_numpy[y:y + h, x:x + w])\n",
    "        y_true.append(trueLabel)\n",
    "        y_pred.append(predictedLabel)\n",
    "\n",
    "        if (confidence < 75):\n",
    "            confidence = \"  {0}%\".format(round(100 - confidence))\n",
    "        else:\n",
    "            confidence = \"  {0}%\".format(round(100 - confidence))\n",
    "\n",
    "        print(f\"True Label: {trueLabel}, Predicted Label: {predictedLabel}, Confidence: {confidence}\")\n",
    "\n",
    "accuracy = accuracy_score(y_true, y_pred)\n",
    "print(f\"Accuracy: {accuracy}\")\n"
   ]
  }
 ],
 "metadata": {
  "kernelspec": {
   "display_name": "Python 3",
   "language": "python",
   "name": "python3"
  },
  "language_info": {
   "codemirror_mode": {
    "name": "ipython",
    "version": 3
   },
   "file_extension": ".py",
   "mimetype": "text/x-python",
   "name": "python",
   "nbconvert_exporter": "python",
   "pygments_lexer": "ipython3",
   "version": "3.9.4"
  },
  "orig_nbformat": 4
 },
 "nbformat": 4,
 "nbformat_minor": 2
}
