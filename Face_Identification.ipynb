{
 "cells": [
  {
   "cell_type": "code",
   "execution_count": 2,
   "metadata": {},
   "outputs": [],
   "source": [
    "import numpy as np\n",
    "import cv2\n",
    "from PIL import Image\n",
    "import os"
   ]
  },
  {
   "attachments": {},
   "cell_type": "markdown",
   "metadata": {},
   "source": [
    "\n",
    "# **Face Recognition**\n",
    "\n",
    "use openCV2 to recognise the face and eyes using camera"
   ]
  },
  {
   "cell_type": "code",
   "execution_count": 3,
   "metadata": {},
   "outputs": [],
   "source": [
    "import numpy as np\n",
    "import cv2\n",
    "\n",
    "# multiple cascades: https://github.com/Itseez/opencv/tree/master/data/haarcascades\n",
    "\n",
    "#https://github.com/Itseez/opencv/blob/master/data/haarcascades/haarcascade_frontalface_default.xml\n",
    "face_cascade = cv2.CascadeClassifier('Cascades/haarcascade_frontalface_default.xml')\n",
    "#https://github.com/Itseez/opencv/blob/master/data/haarcascades/haarcascade_eye.xml\n",
    "eye_cascade = cv2.CascadeClassifier('Cascades/haarcascade_eye.xml')\n",
    "\n",
    "cap = cv2.VideoCapture(0)\n",
    "\n",
    "while 1:\n",
    "    ret, frame = cap.read()\n",
    "    gray = cv2.cvtColor(frame, cv2.COLOR_BGR2GRAY)\n",
    "    faces = face_cascade.detectMultiScale(\n",
    "        gray,     \n",
    "        scaleFactor=1.2,\n",
    "        minNeighbors=5,     \n",
    "        minSize=(20, 20)\n",
    "    )\n",
    "\n",
    "    for (x,y,w,h) in faces:\n",
    "        cv2.rectangle(frame,(x,y),(x+w,y+h),(255,0,0),2)\n",
    "        roi_gray = gray[y:y+h, x:x+w]\n",
    "        roi_color = frame[y:y+h, x:x+w]\n",
    "        \n",
    "        eyes = eye_cascade.detectMultiScale(roi_gray)\n",
    "        for (ex,ey,ew,eh) in eyes:\n",
    "            cv2.rectangle(roi_color,(ex,ey),(ex+ew,ey+eh),(0,255,0),2)\n",
    "\n",
    "    cv2.imshow('img',frame)\n",
    "    k = cv2.waitKey(30) & 0xff\n",
    "    if k == 27:\n",
    "        break\n",
    "\n",
    "cap.release()\n",
    "cv2.destroyAllWindows()"
   ]
  },
  {
   "attachments": {},
   "cell_type": "markdown",
   "metadata": {},
   "source": [
    "# **Dataset creation**\n",
    "create a dataset of faces by opening the camera for 10 seconds taking 40 pictures (30 for training and 10 for testing) using live camera"
   ]
  },
  {
   "cell_type": "code",
   "execution_count": 5,
   "metadata": {},
   "outputs": [
    {
     "name": "stdout",
     "output_type": "stream",
     "text": [
      "\n",
      " [INFO] Initializing face capture. Look the camera and wait ...\n",
      "\n",
      " [INFO] Exiting Program and cleanup stuff\n"
     ]
    }
   ],
   "source": [
    "import cv2\n",
    "import os\n",
    "cam = cv2.VideoCapture(0)\n",
    "cam.set(3, 640) # set video width\n",
    "cam.set(4, 480) # set video height\n",
    "face_detector = cv2.CascadeClassifier('Cascades/haarcascade_frontalface_default.xml')# For each person, enter one numeric face trueLabel\n",
    "# For each person, enter one numeric face trueLabel\n",
    "face_id = input('\\n enter user trueLabel end press <return> ==>  ')\n",
    "print(\"\\n [INFO] Initializing face capture. Look the camera and wait ...\")# Initialize individual sampling face count\n",
    "count = 0\n",
    "ESCAPE_KEY = 27\n",
    "trainingDataNumber = 30\n",
    "testingDataNumber = 10\n",
    "currentLabel = 'train'\n",
    "\n",
    "while(True):\n",
    "    ret, img = cam.read()\n",
    "    #img = cv2.flip(img, -1) # flip video image vertically\n",
    "    gray = cv2.cvtColor(img, cv2.COLOR_BGR2GRAY)\n",
    "    faces = face_detector.detectMultiScale(gray, 1.3, 5)\n",
    "    for (x,y,w,h) in faces:\n",
    "        cv2.rectangle(img, (x,y), (x+w,y+h), (255,0,0), 2)     \n",
    "        count += 1\n",
    "        # Save the captured image into the datasets folder\n",
    "        #image saved as User.trueLabel.count (User.1.14 for example)\n",
    "        cv2.imwrite(\"dataset/User.\" + str(face_id) + '.' +  \n",
    "                    str(count) +'_'+ currentLabel +  \".jpg\", gray[y:y+h,x:x+w])\n",
    "        cv2.imshow('image', img)\n",
    "    \n",
    "    # Waiting for 250 miliseconds between every 2 captures\n",
    "    k = cv2.waitKey(250) & 0xff\n",
    "    # Press 'ESC' for exiting video \n",
    "    if k == ESCAPE_KEY:\n",
    "        break\n",
    "    # Take 40 face samples and stop video\n",
    "    elif count >= trainingDataNumber + testingDataNumber:\n",
    "         break\n",
    "    # Take 30 face samples for training and change the label in the image path to 'test'\n",
    "    elif count >= trainingDataNumber:\n",
    "        currentLabel = 'test'\n",
    "    \n",
    "print(\"\\n [INFO] Exiting Program and cleanup stuff\")\n",
    "cam.release()\n",
    "cv2.destroyAllWindows()"
   ]
  },
  {
   "attachments": {},
   "cell_type": "markdown",
   "metadata": {},
   "source": [
    "# **Training**\n",
    "Training dataset using LBPH Face Recognizer"
   ]
  },
  {
   "cell_type": "code",
   "execution_count": 10,
   "metadata": {},
   "outputs": [
    {
     "name": "stdout",
     "output_type": "stream",
     "text": [
      "\n",
      " [INFO] Training faces. It will take a few seconds. Wait ...\n",
      "\n",
      " [INFO] 2 faces trained. Exiting Program\n"
     ]
    }
   ],
   "source": [
    "import cv2\n",
    "import numpy as np\n",
    "from PIL import Image\n",
    "import os\n",
    "# Path for face image database\n",
    "path = 'dataset'\n",
    "recognizer = cv2.face.LBPHFaceRecognizer_create()\n",
    "detector = cv2.CascadeClassifier(\"Cascades/haarcascade_frontalface_default.xml\")\n",
    "# function to get the images and label data\n",
    "def getImagesAndLabels(path):\n",
    "    imagePaths = [os.path.join(path,f) for f in os.listdir(path)]\n",
    "    # faceSamples is the list of every face in every image  \n",
    "    faceSamples=[]\n",
    "    # True labels of the faces\n",
    "    ids = []    \n",
    "    # Loop through all the image paths which contains 'train' label in it\n",
    "    # and loading each image\n",
    "    for imagePath in imagePaths:\n",
    "        if(imagePath.__contains__('test')):\n",
    "            break\n",
    "        PIL_img = Image.open(imagePath).convert('L') # grayscale\n",
    "        img_numpy = np.array(PIL_img,'uint8')\n",
    "        \n",
    "        trueLabel = int(os.path.split(imagePath)[-1].split(\".\")[1])\n",
    "        faces = detector.detectMultiScale(img_numpy)\n",
    "\n",
    "        for (x,y,w,h) in faces:\n",
    "            faceSamples.append(img_numpy[y:y+h,x:x+w])\n",
    "            ids.append(trueLabel)\n",
    "    return faceSamples,ids\n",
    "print (\"\\n [INFO] Training faces. It will take a few seconds. Wait ...\")\n",
    "faces,ids = getImagesAndLabels(path)\n",
    "\n",
    "# train the model using the faces and ids\n",
    "recognizer.train(faces, np.array(ids))# Save the model into trainer/trainer.yml\n",
    "recognizer.write('trainer/trainer.yml') # Print the numer of faces trained and end program\n",
    "print(\"\\n [INFO] {0} faces trained. Exiting Program\".format(len(np.unique(ids))))"
   ]
  },
  {
   "attachments": {},
   "cell_type": "markdown",
   "metadata": {},
   "source": [
    "# **Live Recognizer**\n",
    "Demo for the live recognizer which detects the faces with the live camera and add the label of the face on it."
   ]
  },
  {
   "cell_type": "code",
   "execution_count": 7,
   "metadata": {},
   "outputs": [
    {
     "name": "stdout",
     "output_type": "stream",
     "text": [
      "\n",
      " [INFO] Exiting Program and cleanup stuff\n"
     ]
    }
   ],
   "source": [
    "import cv2\n",
    "import numpy as np\n",
    "import os \n",
    "recognizer = cv2.face.LBPHFaceRecognizer_create()\n",
    "recognizer.read('trainer/trainer.yml')\n",
    "cascadePath = \"Cascades/haarcascade_frontalface_default.xml\"\n",
    "faceCascade = cv2.CascadeClassifier(cascadePath)\n",
    "font = cv2.FONT_HERSHEY_SIMPLEX\n",
    "ESCAPE_KEY = 27\n",
    "# names related to ids: example ==> Marcelo: trueLabel=1,  etc\n",
    "names = ['None', 'Barbary', 'Tython','Messi', 'Adam', 'Mahmoud', 'sary', 'sary', 'sary','saryyyyy', 'sary', 'sary', 'sary'] # Initialize and start realtime video capture\n",
    "cam = cv2.VideoCapture(0)\n",
    "cam.set(3, 640) # set video width\n",
    "cam.set(4, 480) # set video height\n",
    "# Define min window size to be recognized as a face\n",
    "minW = 0.1*cam.get(3)\n",
    "minH = 0.1*cam.get(4)\n",
    "while True:\n",
    "    ret, img =cam.read()\n",
    "    gray = cv2.cvtColor(img,cv2.COLOR_BGR2GRAY)\n",
    "    \n",
    "    # Detect faces in the image\n",
    "    faces = faceCascade.detectMultiScale( \n",
    "        gray,\n",
    "        scaleFactor = 1.2,\n",
    "        minNeighbors = 5,\n",
    "        minSize = (int(minW), int(minH)),\n",
    "       )\n",
    "    # Loop through each face in the image\n",
    "    for(x,y,w,h) in faces:\n",
    "        cv2.rectangle(img, (x,y), (x+w,y+h), (0,255,0), 2)\n",
    "        trueLabel, confidence = recognizer.predict(gray[y:y+h,x:x+w])\n",
    "\n",
    "        # If confidence is less them 75 then matchs the trueLabel \n",
    "        if (confidence < 75):\n",
    "            trueLabel = names[trueLabel]\n",
    "            confidence = \"  {0}%\".format(round(100 - confidence))\n",
    "        # else this face is unknown\n",
    "        else:\n",
    "            trueLabel = \"unknown\"\n",
    "            confidence = \"  {0}%\".format(round(100 - confidence))\n",
    "        \n",
    "        cv2.putText(\n",
    "                    img, \n",
    "                    str(trueLabel), \n",
    "                    (x+5,y-5), \n",
    "                    font, \n",
    "                    1, \n",
    "                    (255,255,255), \n",
    "                    2\n",
    "                   )\n",
    "        cv2.putText(\n",
    "                    img, \n",
    "                    str(confidence), \n",
    "                    (x+5,y+h-5), \n",
    "                    font, \n",
    "                    1, \n",
    "                    (255,255,0), \n",
    "                    1\n",
    "                   )  \n",
    "    \n",
    "    cv2.imshow('camera',img) \n",
    "    k = cv2.waitKey(10) & 0xff\n",
    "    # Press 'ESC' for exiting video\n",
    "    if k == ESCAPE_KEY:\n",
    "        break\n",
    "print(\"\\n [INFO] Exiting Program and cleanup stuff\")\n",
    "cam.release()\n",
    "cv2.destroyAllWindows()"
   ]
  },
  {
   "attachments": {},
   "cell_type": "markdown",
   "metadata": {},
   "source": [
    "# **testing**\n",
    "Testing the model on unseen data."
   ]
  },
  {
   "cell_type": "code",
   "execution_count": 11,
   "metadata": {},
   "outputs": [
    {
     "name": "stdout",
     "output_type": "stream",
     "text": [
      "True Label: 10, Predicted Label: 10, Confidence:   67%\n",
      "True Label: 10, Predicted Label: 10, Confidence:   60%\n",
      "True Label: 10, Predicted Label: 10, Confidence:   59%\n",
      "True Label: 10, Predicted Label: 10, Confidence:   61%\n",
      "True Label: 10, Predicted Label: 10, Confidence:   54%\n",
      "Accuracy: 1.0\n"
     ]
    }
   ],
   "source": [
    "import cv2\n",
    "import numpy as np\n",
    "from PIL import Image\n",
    "import os\n",
    "from sklearn.metrics import accuracy_score\n",
    "\n",
    "recognizer = cv2.face.LBPHFaceRecognizer_create()\n",
    "recognizer.read('trainer/trainer.yml')\n",
    "cascadePath = \"Cascades/haarcascade_frontalface_default.xml\"\n",
    "faceCascade = cv2.CascadeClassifier(cascadePath)\n",
    "path = 'dataset'\n",
    "imagePaths = [os.path.join(path, f) for f in os.listdir(path)]\n",
    "\n",
    "# Split the dataset into training and testing sets\n",
    "train_imagePaths = [img for img in imagePaths if 'train' in img]\n",
    "test_imagePaths = [img for img in imagePaths if 'test' in img]\n",
    "\n",
    "y_true = []\n",
    "y_pred = []\n",
    "# Loop through the test images\n",
    "for imagePath in test_imagePaths:\n",
    "    PIL_img = Image.open(imagePath).convert('L')  # grayscale\n",
    "    img_numpy = np.array(PIL_img, 'uint8')\n",
    "    trueLabel = int(os.path.split(imagePath)[-1].split(\".\")[1])\n",
    "    # Detect the face in the image\n",
    "    faces = faceCascade.detectMultiScale(\n",
    "        img_numpy,\n",
    "        scaleFactor=1.2,\n",
    "        minNeighbors=5\n",
    "    )\n",
    "    # Loop through each face in the image\n",
    "    for (x, y, w, h) in faces:\n",
    "        predictedLabel, confidence = recognizer.predict(img_numpy[y:y + h, x:x + w])\n",
    "        # Append the true label and the predicted label in the lists\n",
    "        y_true.append(trueLabel)\n",
    "        y_pred.append(predictedLabel)\n",
    "\n",
    "        if (confidence < 75):\n",
    "            confidence = \"  {0}%\".format(round(100 - confidence))\n",
    "        else:\n",
    "            confidence = \"  {0}%\".format(round(100 - confidence))\n",
    "\n",
    "        print(f\"True Label: {trueLabel}, Predicted Label: {predictedLabel}, Confidence: {confidence}\")\n",
    "\n",
    "accuracy = accuracy_score(y_true, y_pred)\n",
    "print(f\"Accuracy: {accuracy}\")\n"
   ]
  }
 ],
 "metadata": {
  "kernelspec": {
   "display_name": "Python 3",
   "language": "python",
   "name": "python3"
  },
  "language_info": {
   "codemirror_mode": {
    "name": "ipython",
    "version": 3
   },
   "file_extension": ".py",
   "mimetype": "text/x-python",
   "name": "python",
   "nbconvert_exporter": "python",
   "pygments_lexer": "ipython3",
   "version": "3.9.4"
  },
  "orig_nbformat": 4
 },
 "nbformat": 4,
 "nbformat_minor": 2
}
