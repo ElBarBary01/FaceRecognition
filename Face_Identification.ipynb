{
  "cells": [
    {
      "cell_type": "code",
      "execution_count": null,
      "metadata": {},
      "outputs": [],
      "source": [
        "import numpy as np\n",
        "import cv2\n",
        "from PIL import Image\n",
        "import os"
      ]
    },
    {
      "attachments": {},
      "cell_type": "markdown",
      "metadata": {
        "id": "idHzgojiNN6T"
      },
      "source": [
        "\n",
        "# **Face Recognition**\n",
        "\n",
        "use openCV2 to recognise the face and eyes using camera"
      ]
    },
    {
      "cell_type": "code",
      "execution_count": null,
      "metadata": {
        "id": "4JIe_SFqNN6V"
      },
      "outputs": [],
      "source": [
        "# multiple cascades links: https://github.com/Itseez/opencv/tree/master/data/haarcascades\n",
        "\n",
        "#https://github.com/Itseez/opencv/blob/master/data/haarcascades/haarcascade_frontalface_default.xml\n",
        "face_cascade = cv2.CascadeClassifier('Cascades/haarcascade_frontalface_default.xml')\n",
        "#https://github.com/Itseez/opencv/blob/master/data/haarcascades/haarcascade_eye.xml\n",
        "eye_cascade = cv2.CascadeClassifier('Cascades/haarcascade_eye.xml')\n",
        "\n",
        "\n",
        "cap = cv2.VideoCapture(0)\n",
        "\n",
        "while 1:\n",
        "    #open the camera and read frames    \n",
        "    ret, frame = cap.read()\n",
        "    gray = cv2.cvtColor(frame, cv2.COLOR_BGR2GRAY)\n",
        "    #detect multiple faces/features\n",
        "    faces = face_cascade.detectMultiScale(\n",
        "        gray,     \n",
        "        scaleFactor=1.2,\n",
        "        minNeighbors=5,     \n",
        "        minSize=(20, 20)\n",
        "    )\n",
        "\n",
        "    for (x,y,w,h) in faces:\n",
        "        cv2.rectangle(frame,(x,y),(x+w,y+h),(255,0,0),2)\n",
        "        roi_gray = gray[y:y+h, x:x+w]\n",
        "        roi_color = frame[y:y+h, x:x+w]\n",
        "        \n",
        "        eyes = eye_cascade.detectMultiScale(roi_gray)\n",
        "        for (ex,ey,ew,eh) in eyes:\n",
        "            cv2.rectangle(roi_color,(ex,ey),(ex+ew,ey+eh),(0,255,0),2)\n",
        "\n",
        "    #Display frame\n",
        "    cv2.imshow('img',frame)\n",
        "    #close after pressing escape \n",
        "    k = cv2.waitKey(30) & 0xff\n",
        "    # Press 'ESC'\n",
        "    if k == 27:\n",
        "        break\n",
        "\n",
        "cap.release()\n",
        "cv2.destroyAllWindows()"
      ]
    },
    {
      "attachments": {},
      "cell_type": "markdown",
      "metadata": {
        "id": "4VesecfFNlMG"
      },
      "source": [
        "# **Dataset creation**\n",
        "\n",
        "create a dataset by taking pictures using camera"
      ]
    },
    {
      "cell_type": "code",
      "execution_count": null,
      "metadata": {
        "id": "hLh0mO1wNN6W"
      },
      "outputs": [],
      "source": [
        "cam = cv2.VideoCapture(0)\n",
        "cam.set(3, 640) # set video width\n",
        "cam.set(4, 480) # set video height\n",
        "face_detector = cv2.CascadeClassifier('Cascades/haarcascade_frontalface_default.xml')\n",
        "# For each person, enter one numeric face id\n",
        "face_id = input('\\n enter user id end press <return> ==>  ')\n",
        "print(\"\\n [INFO] Initializing face capture. Look the camera and wait ...\")\n",
        "# Initialize individual sampling face count\n",
        "count = 0\n",
        "while(True):\n",
        "    ret, img = cam.read()\n",
        "    gray = cv2.cvtColor(img, cv2.COLOR_BGR2GRAY)\n",
        "    faces = face_detector.detectMultiScale(gray, 1.3, 5)\n",
        "    for (x,y,w,h) in faces:\n",
        "        cv2.rectangle(img, (x,y), (x+w,y+h), (255,0,0), 2)     \n",
        "        count += 1\n",
        "        # Save the captured image into the datasets folder\n",
        "        cv2.imwrite(\"dataset/User.\" + str(face_id) + '.' +  \n",
        "                    str(count) + \".jpg\", gray[y:y+h,x:x+w])\n",
        "        #image saved as User.id.count (User.1.14 for example)\n",
        "        cv2.imshow('image', img)\n",
        "    k = cv2.waitKey(100) & 0xff # Press 'ESC' for exiting video\n",
        "    if k == 27:\n",
        "        break\n",
        "    elif count >= 30: # Take 30 face sample and stop video\n",
        "         break\n",
        "cam.release()\n",
        "cv2.destroyAllWindows()"
      ]
    },
    {
      "attachments": {},
      "cell_type": "markdown",
      "metadata": {},
      "source": [
        "create dataset from existing images"
      ]
    },
    {
      "attachments": {},
      "cell_type": "markdown",
      "metadata": {
        "id": "FNV0wS6NN-8b"
      },
      "source": [
        "# Training\n",
        "Training dataset using LBPH Face Recognizer"
      ]
    },
    {
      "cell_type": "code",
      "execution_count": null,
      "metadata": {
        "id": "hrdVtxe9NN6X"
      },
      "outputs": [],
      "source": [
        "# Path for face image database\n",
        "path = 'dataset'\n",
        "recognizer = cv2.face.LBPHFaceRecognizer_create()\n",
        "detector = cv2.CascadeClassifier(\"Cascades/haarcascade_frontalface_default.xml\")\n",
        "# function to get the images and label data\n",
        "def getImagesAndLabels(path):\n",
        "    imagePaths = [os.path.join(path,f) for f in os.listdir(path)]     \n",
        "    faceSamples=[]\n",
        "    ids = []\n",
        "    for imagePath in imagePaths:\n",
        "        PIL_img = Image.open(imagePath).convert('L') # grayscale\n",
        "        img_numpy = np.array(PIL_img,'uint8')\n",
        "        id = int(os.path.split(imagePath)[-1].split(\".\")[1])\n",
        "        faces = detector.detectMultiScale(img_numpy)\n",
        "        for (x,y,w,h) in faces:\n",
        "            faceSamples.append(img_numpy[y:y+h,x:x+w])\n",
        "            ids.append(id)\n",
        "    return faceSamples,ids\n",
        "print (\"\\n [INFO] Training faces. It will take a few seconds. Wait ...\")\n",
        "faces,ids = getImagesAndLabels(path)\n",
        "recognizer.train(faces, np.array(ids))# Save the model into trainer/trainer.yml\n",
        "recognizer.write('trainer/trainer.yml') # Print the numer of faces trained and end program\n",
        "print(\"\\n [INFO] {0} faces trained. Exiting Program\".format(len(np.unique(ids))))"
      ]
    },
    {
      "attachments": {},
      "cell_type": "markdown",
      "metadata": {
        "id": "V_k-o2ZzOXMS"
      },
      "source": [
        "# **Demo**\n"
      ]
    },
    {
      "cell_type": "code",
      "execution_count": null,
      "metadata": {
        "id": "tVfWZrF6NN6X"
      },
      "outputs": [],
      "source": [
        "import cv2\n",
        "import numpy as np\n",
        "import os \n",
        "recognizer = cv2.face.LBPHFaceRecognizer_create()\n",
        "recognizer.read('trainer/trainer.yml')\n",
        "cascadePath = \"Cascades/haarcascade_frontalface_default.xml\"\n",
        "faceCascade = cv2.CascadeClassifier(cascadePath)\n",
        "font = cv2.FONT_HERSHEY_SIMPLEX\n",
        "#iniciate id counter\n",
        "id = 0\n",
        "# names array to ids: example ==> Barbary: id=1 \n",
        "names = ['None', 'Barbary', 'Tython','Messi', 'Adam', 'Mahmoud'] \n",
        "# Initialize and start realtime video capture\n",
        "cam = cv2.VideoCapture(0)\n",
        "cam.set(3, 640) # set video width\n",
        "cam.set(4, 480) # set video height\n",
        "# Define min window size to be recognized as a face\n",
        "minW = 0.1*cam.get(3)\n",
        "minH = 0.1*cam.get(4)\n",
        "while True:\n",
        "    ret, img =cam.read()\n",
        "    gray = cv2.cvtColor(img,cv2.COLOR_BGR2GRAY)\n",
        "    \n",
        "    faces = faceCascade.detectMultiScale( \n",
        "        gray,\n",
        "        scaleFactor = 1.2,\n",
        "        minNeighbors = 5,\n",
        "        minSize = (int(minW), int(minH)),\n",
        "       )\n",
        "    for(x,y,w,h) in faces:\n",
        "        cv2.rectangle(img, (x,y), (x+w,y+h), (0,255,0), 2)\n",
        "        id, confidence = recognizer.predict(gray[y:y+h,x:x+w])\n",
        "        # If confidence is less than 75 ==> \"0\" : perfect match \n",
        "        if (confidence < 75):\n",
        "            id = names[id]\n",
        "            confidence = \"  {0}%\".format(round(100 - confidence))\n",
        "        else:\n",
        "            id = \"unknown\"\n",
        "            confidence = \"  {0}%\".format(round(100 - confidence))\n",
        "        \n",
        "        cv2.putText(\n",
        "                    img, \n",
        "                    str(id), \n",
        "                    (x+5,y-5), \n",
        "                    font, \n",
        "                    1, \n",
        "                    (255,255,255), \n",
        "                    2\n",
        "                   )\n",
        "        cv2.putText(\n",
        "                    img, \n",
        "                    str(confidence), \n",
        "                    (x+5,y+h-5), \n",
        "                    font, \n",
        "                    1, \n",
        "                    (255,255,0), \n",
        "                    1\n",
        "                   )  \n",
        "    \n",
        "    cv2.imshow('camera',img) \n",
        "    k = cv2.waitKey(10) & 0xff # Press 'ESC' for exiting video\n",
        "    if k == 27:\n",
        "        break\n",
        "    print(\"\\n [INFO] Exiting Program\")\n",
        "cam.release()\n",
        "cv2.destroyAllWindows()"
      ]
    }
  ],
  "metadata": {
    "colab": {
      "provenance": []
    },
    "language_info": {
      "name": "python"
    },
    "orig_nbformat": 4
  },
  "nbformat": 4,
  "nbformat_minor": 0
}
